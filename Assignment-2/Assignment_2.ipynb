{
 "cells": [
  {
   "cell_type": "code",
   "execution_count": 55,
   "id": "cea9f8c6",
   "metadata": {},
   "outputs": [],
   "source": [
    "# Step 1: Import Libraries\n",
    "import pandas as pd\n",
    "from sklearn.model_selection import train_test_split\n",
    "from sklearn.linear_model import LinearRegression\n",
    "\n",
    "# Step 2: Load Clean Dataset (created in Assignment 1)\n",
    "df = pd.read_csv(\"clean_student_data.csv\")"
   ]
  },
  {
   "cell_type": "code",
   "execution_count": 56,
   "id": "ba7ae04c",
   "metadata": {},
   "outputs": [],
   "source": [
    "# Step 3: Define Features (X) and Target (y)\n",
    "X = df[['assignment_marks', 'quiz_marks', 'attendance_percentage',\n",
    "        'mid_marks', 'final_marks', 'study_hours']]\n",
    "y = df['total_marks']"
   ]
  },
  {
   "cell_type": "code",
   "execution_count": 57,
   "id": "0831dc40",
   "metadata": {},
   "outputs": [],
   "source": [
    "# Step 4: Split Data for Training and Testing\n",
    "X_train, X_test, y_train, y_test = train_test_split(X, y, test_size=0.2, random_state=42)"
   ]
  },
  {
   "cell_type": "code",
   "execution_count": 58,
   "id": "7af2d61a",
   "metadata": {},
   "outputs": [
    {
     "name": "stdout",
     "output_type": "stream",
     "text": [
      "✅ Model trained successfully!\n"
     ]
    }
   ],
   "source": [
    "# Step 5: Train the Linear Regression Model\n",
    "model = LinearRegression()\n",
    "model.fit(X_train, y_train)\n",
    "\n",
    "print(\"✅ Model trained successfully!\")"
   ]
  },
  {
   "cell_type": "code",
   "execution_count": 59,
   "id": "b84c091e",
   "metadata": {},
   "outputs": [
    {
     "name": "stdout",
     "output_type": "stream",
     "text": [
      "\n",
      "--- Enter Student Details ---\n"
     ]
    }
   ],
   "source": [
    "# Step 6: Take User Input for Prediction\n",
    "print(\"\\n--- Enter Student Details ---\")\n",
    "assignment = float(input(\"Assignment Marks (out of 10): \"))\n",
    "quiz = float(input(\"Quiz Marks (out of 10): \"))\n",
    "attendance = float(input(\"Attendance Percentage (0-100): \"))\n",
    "mid = float(input(\"Mid Marks (out of 30): \"))\n",
    "final = float(input(\"Final Marks (out of 40): \"))\n",
    "study = float(input(\"Study Hours per Day: \"))"
   ]
  },
  {
   "cell_type": "code",
   "execution_count": 60,
   "id": "5cd4345b",
   "metadata": {},
   "outputs": [],
   "source": [
    "# Step 7: Prepare Data for Prediction\n",
    "user_data = pd.DataFrame([[assignment, quiz, attendance, mid, final, study]],\n",
    "                         columns=['assignment_marks', 'quiz_marks', 'attendance_percentage',\n",
    "                                  'mid_marks', 'final_marks', 'study_hours'])"
   ]
  },
  {
   "cell_type": "code",
   "execution_count": 61,
   "id": "b5bb033c",
   "metadata": {},
   "outputs": [
    {
     "name": "stdout",
     "output_type": "stream",
     "text": [
      "\n",
      "🎯 Predicted Total Marks: 70.61 / 100\n"
     ]
    }
   ],
   "source": [
    "# Step 8: Predict Total Marks\n",
    "predicted_marks = model.predict(user_data)\n",
    "\n",
    "print(f\"\\n🎯 Predicted Total Marks: {predicted_marks[0]:.2f} / 100\")"
   ]
  }
 ],
 "metadata": {
  "kernelspec": {
   "display_name": "Python 3",
   "language": "python",
   "name": "python3"
  },
  "language_info": {
   "codemirror_mode": {
    "name": "ipython",
    "version": 3
   },
   "file_extension": ".py",
   "mimetype": "text/x-python",
   "name": "python",
   "nbconvert_exporter": "python",
   "pygments_lexer": "ipython3",
   "version": "3.13.7"
  }
 },
 "nbformat": 4,
 "nbformat_minor": 5
}
